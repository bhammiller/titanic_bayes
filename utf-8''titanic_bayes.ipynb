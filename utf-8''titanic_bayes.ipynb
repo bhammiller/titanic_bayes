{
  "cells": [
    {
      "metadata": {
        "trusted": true
      },
      "cell_type": "code",
      "source": "import pandas as pd\nimport numpy as np\nLocation=\"titanic3.xls\"\ndf = pd.read_excel(Location)\ndf.head()",
      "execution_count": 1,
      "outputs": [
        {
          "output_type": "execute_result",
          "execution_count": 1,
          "data": {
            "text/html": "<div>\n<style>\n    .dataframe thead tr:only-child th {\n        text-align: right;\n    }\n\n    .dataframe thead th {\n        text-align: left;\n    }\n\n    .dataframe tbody tr th {\n        vertical-align: top;\n    }\n</style>\n<table border=\"1\" class=\"dataframe\">\n  <thead>\n    <tr style=\"text-align: right;\">\n      <th></th>\n      <th>pclass</th>\n      <th>survived</th>\n      <th>name</th>\n      <th>sex</th>\n      <th>age</th>\n      <th>sibsp</th>\n      <th>parch</th>\n      <th>ticket</th>\n      <th>fare</th>\n      <th>cabin</th>\n      <th>embarked</th>\n      <th>boat</th>\n      <th>body</th>\n      <th>home.dest</th>\n    </tr>\n  </thead>\n  <tbody>\n    <tr>\n      <th>0</th>\n      <td>1</td>\n      <td>1</td>\n      <td>Allen, Miss. Elisabeth Walton</td>\n      <td>female</td>\n      <td>29.0000</td>\n      <td>0</td>\n      <td>0</td>\n      <td>24160</td>\n      <td>211.3375</td>\n      <td>B5</td>\n      <td>S</td>\n      <td>2</td>\n      <td>NaN</td>\n      <td>St Louis, MO</td>\n    </tr>\n    <tr>\n      <th>1</th>\n      <td>1</td>\n      <td>1</td>\n      <td>Allison, Master. Hudson Trevor</td>\n      <td>male</td>\n      <td>0.9167</td>\n      <td>1</td>\n      <td>2</td>\n      <td>113781</td>\n      <td>151.5500</td>\n      <td>C22 C26</td>\n      <td>S</td>\n      <td>11</td>\n      <td>NaN</td>\n      <td>Montreal, PQ / Chesterville, ON</td>\n    </tr>\n    <tr>\n      <th>2</th>\n      <td>1</td>\n      <td>0</td>\n      <td>Allison, Miss. Helen Loraine</td>\n      <td>female</td>\n      <td>2.0000</td>\n      <td>1</td>\n      <td>2</td>\n      <td>113781</td>\n      <td>151.5500</td>\n      <td>C22 C26</td>\n      <td>S</td>\n      <td>NaN</td>\n      <td>NaN</td>\n      <td>Montreal, PQ / Chesterville, ON</td>\n    </tr>\n    <tr>\n      <th>3</th>\n      <td>1</td>\n      <td>0</td>\n      <td>Allison, Mr. Hudson Joshua Creighton</td>\n      <td>male</td>\n      <td>30.0000</td>\n      <td>1</td>\n      <td>2</td>\n      <td>113781</td>\n      <td>151.5500</td>\n      <td>C22 C26</td>\n      <td>S</td>\n      <td>NaN</td>\n      <td>135.0</td>\n      <td>Montreal, PQ / Chesterville, ON</td>\n    </tr>\n    <tr>\n      <th>4</th>\n      <td>1</td>\n      <td>0</td>\n      <td>Allison, Mrs. Hudson J C (Bessie Waldo Daniels)</td>\n      <td>female</td>\n      <td>25.0000</td>\n      <td>1</td>\n      <td>2</td>\n      <td>113781</td>\n      <td>151.5500</td>\n      <td>C22 C26</td>\n      <td>S</td>\n      <td>NaN</td>\n      <td>NaN</td>\n      <td>Montreal, PQ / Chesterville, ON</td>\n    </tr>\n  </tbody>\n</table>\n</div>",
            "text/plain": "   pclass  survived                                             name     sex  \\\n0       1         1                    Allen, Miss. Elisabeth Walton  female   \n1       1         1                   Allison, Master. Hudson Trevor    male   \n2       1         0                     Allison, Miss. Helen Loraine  female   \n3       1         0             Allison, Mr. Hudson Joshua Creighton    male   \n4       1         0  Allison, Mrs. Hudson J C (Bessie Waldo Daniels)  female   \n\n       age  sibsp  parch  ticket      fare    cabin embarked boat   body  \\\n0  29.0000      0      0   24160  211.3375       B5        S    2    NaN   \n1   0.9167      1      2  113781  151.5500  C22 C26        S   11    NaN   \n2   2.0000      1      2  113781  151.5500  C22 C26        S  NaN    NaN   \n3  30.0000      1      2  113781  151.5500  C22 C26        S  NaN  135.0   \n4  25.0000      1      2  113781  151.5500  C22 C26        S  NaN    NaN   \n\n                         home.dest  \n0                     St Louis, MO  \n1  Montreal, PQ / Chesterville, ON  \n2  Montreal, PQ / Chesterville, ON  \n3  Montreal, PQ / Chesterville, ON  \n4  Montreal, PQ / Chesterville, ON  "
          },
          "metadata": {}
        }
      ]
    },
    {
      "metadata": {
        "trusted": true
      },
      "cell_type": "code",
      "source": "df.head()",
      "execution_count": 4,
      "outputs": [
        {
          "output_type": "execute_result",
          "execution_count": 4,
          "data": {
            "text/html": "<div>\n<style>\n    .dataframe thead tr:only-child th {\n        text-align: right;\n    }\n\n    .dataframe thead th {\n        text-align: left;\n    }\n\n    .dataframe tbody tr th {\n        vertical-align: top;\n    }\n</style>\n<table border=\"1\" class=\"dataframe\">\n  <thead>\n    <tr style=\"text-align: right;\">\n      <th></th>\n      <th>pclass</th>\n      <th>survived</th>\n      <th>name</th>\n      <th>sex</th>\n      <th>age</th>\n      <th>sibsp</th>\n      <th>parch</th>\n      <th>ticket</th>\n      <th>fare</th>\n      <th>cabin</th>\n      <th>embarked</th>\n      <th>boat</th>\n      <th>body</th>\n      <th>home.dest</th>\n      <th>first_class_survivor</th>\n      <th>second_class_survivor</th>\n      <th>third_class_survivor</th>\n      <th>boy_survivor</th>\n      <th>woman_survivor</th>\n      <th>man_survivor</th>\n    </tr>\n  </thead>\n  <tbody>\n    <tr>\n      <th>0</th>\n      <td>1</td>\n      <td>1</td>\n      <td>Allen, Miss. Elisabeth Walton</td>\n      <td>female</td>\n      <td>29.0000</td>\n      <td>0</td>\n      <td>0</td>\n      <td>24160</td>\n      <td>211.3375</td>\n      <td>B5</td>\n      <td>S</td>\n      <td>2</td>\n      <td>NaN</td>\n      <td>St Louis, MO</td>\n      <td>1</td>\n      <td>0</td>\n      <td>0</td>\n      <td>0</td>\n      <td>1</td>\n      <td>0</td>\n    </tr>\n    <tr>\n      <th>1</th>\n      <td>1</td>\n      <td>1</td>\n      <td>Allison, Master. Hudson Trevor</td>\n      <td>male</td>\n      <td>0.9167</td>\n      <td>1</td>\n      <td>2</td>\n      <td>113781</td>\n      <td>151.5500</td>\n      <td>C22 C26</td>\n      <td>S</td>\n      <td>11</td>\n      <td>NaN</td>\n      <td>Montreal, PQ / Chesterville, ON</td>\n      <td>1</td>\n      <td>0</td>\n      <td>0</td>\n      <td>1</td>\n      <td>0</td>\n      <td>0</td>\n    </tr>\n    <tr>\n      <th>2</th>\n      <td>1</td>\n      <td>0</td>\n      <td>Allison, Miss. Helen Loraine</td>\n      <td>female</td>\n      <td>2.0000</td>\n      <td>1</td>\n      <td>2</td>\n      <td>113781</td>\n      <td>151.5500</td>\n      <td>C22 C26</td>\n      <td>S</td>\n      <td>NaN</td>\n      <td>NaN</td>\n      <td>Montreal, PQ / Chesterville, ON</td>\n      <td>0</td>\n      <td>0</td>\n      <td>0</td>\n      <td>0</td>\n      <td>0</td>\n      <td>0</td>\n    </tr>\n    <tr>\n      <th>3</th>\n      <td>1</td>\n      <td>0</td>\n      <td>Allison, Mr. Hudson Joshua Creighton</td>\n      <td>male</td>\n      <td>30.0000</td>\n      <td>1</td>\n      <td>2</td>\n      <td>113781</td>\n      <td>151.5500</td>\n      <td>C22 C26</td>\n      <td>S</td>\n      <td>NaN</td>\n      <td>135.0</td>\n      <td>Montreal, PQ / Chesterville, ON</td>\n      <td>0</td>\n      <td>0</td>\n      <td>0</td>\n      <td>0</td>\n      <td>0</td>\n      <td>0</td>\n    </tr>\n    <tr>\n      <th>4</th>\n      <td>1</td>\n      <td>0</td>\n      <td>Allison, Mrs. Hudson J C (Bessie Waldo Daniels)</td>\n      <td>female</td>\n      <td>25.0000</td>\n      <td>1</td>\n      <td>2</td>\n      <td>113781</td>\n      <td>151.5500</td>\n      <td>C22 C26</td>\n      <td>S</td>\n      <td>NaN</td>\n      <td>NaN</td>\n      <td>Montreal, PQ / Chesterville, ON</td>\n      <td>0</td>\n      <td>0</td>\n      <td>0</td>\n      <td>0</td>\n      <td>0</td>\n      <td>0</td>\n    </tr>\n  </tbody>\n</table>\n</div>",
            "text/plain": "   pclass  survived                                             name     sex  \\\n0       1         1                    Allen, Miss. Elisabeth Walton  female   \n1       1         1                   Allison, Master. Hudson Trevor    male   \n2       1         0                     Allison, Miss. Helen Loraine  female   \n3       1         0             Allison, Mr. Hudson Joshua Creighton    male   \n4       1         0  Allison, Mrs. Hudson J C (Bessie Waldo Daniels)  female   \n\n       age  sibsp  parch  ticket      fare    cabin embarked boat   body  \\\n0  29.0000      0      0   24160  211.3375       B5        S    2    NaN   \n1   0.9167      1      2  113781  151.5500  C22 C26        S   11    NaN   \n2   2.0000      1      2  113781  151.5500  C22 C26        S  NaN    NaN   \n3  30.0000      1      2  113781  151.5500  C22 C26        S  NaN  135.0   \n4  25.0000      1      2  113781  151.5500  C22 C26        S  NaN    NaN   \n\n                         home.dest  first_class_survivor  \\\n0                     St Louis, MO                     1   \n1  Montreal, PQ / Chesterville, ON                     1   \n2  Montreal, PQ / Chesterville, ON                     0   \n3  Montreal, PQ / Chesterville, ON                     0   \n4  Montreal, PQ / Chesterville, ON                     0   \n\n   second_class_survivor  third_class_survivor  boy_survivor  woman_survivor  \\\n0                      0                     0             0               1   \n1                      0                     0             1               0   \n2                      0                     0             0               0   \n3                      0                     0             0               0   \n4                      0                     0             0               0   \n\n   man_survivor  \n0             0  \n1             0  \n2             0  \n3             0  \n4             0  "
          },
          "metadata": {}
        }
      ]
    },
    {
      "metadata": {
        "trusted": true
      },
      "cell_type": "code",
      "source": "total_survivors=df['survived'].sum()\ntotal_fclass_survivors=df['first_class_survivor'].sum()\ntotal_sclass_survivors=df['second_class_survivor'].sum()\ntotal_tclass_survivors=df['third_class_survivor'].sum()\ntotal_boy_survivors=df['boy_survivor'].sum()\ntotal_woman_survivors=df['woman_survivor'].sum()\ntotal_man_survivors=df['man_survivor'].sum()\ntotal_boys=df['boy'].sum()\ntotal_women=df['woman'].sum()\ntotal_men=df['man'].sum()\ntotal_first_class=323\ntotal_second_class=277\ntotal_third_class=709\nprint(total_survivors)\nprint(total_fclass_survivors)\nprint(total_sclass_survivors)\nprint(total_tclass_survivors)\nprint(total_boy_survivors)\nprint(total_woman_survivors)\nprint(total_man_survivors)\nprint(total_boys)\nprint(total_women)\nprint(total_men)",
      "execution_count": 7,
      "outputs": [
        {
          "output_type": "stream",
          "text": "500\n200\n119\n181\n31\n248\n105\n82\n324\n588\n",
          "name": "stdout"
        }
      ]
    },
    {
      "metadata": {
        "trusted": true
      },
      "cell_type": "code",
      "source": "pd.value_counts(df['pclass'])",
      "execution_count": 2,
      "outputs": [
        {
          "output_type": "execute_result",
          "execution_count": 2,
          "data": {
            "text/plain": "3    709\n1    323\n2    277\nName: pclass, dtype: int64"
          },
          "metadata": {}
        }
      ]
    },
    {
      "metadata": {
        "trusted": true
      },
      "cell_type": "code",
      "source": "df['first_class_survivor']=np.where((df['pclass']==1)&(df['survived']==1),1,0)\ndf['second_class_survivor']=np.where((df['pclass']==2)&(df['survived']==1),1,0)\ndf['third_class_survivor']=np.where((df['pclass']==3)&(df['survived']==1),1,0)\n\ndf['boy']=np.where((df['age']<=17)&(df['sex']=='male'),1,0)\ndf['woman']=np.where((df['age']>=17)&(df['sex']=='female'),1,0)\ndf['man']=np.where((df['age']>=17)&(df['sex']=='male'),1,0)\n\ndf['boy_survivor']=np.where((df['age']<=17)&(df['sex']=='male')&(df['survived']==1),1,0)\ndf['woman_survivor']=np.where((df['age']>=17)&(df['sex']=='female')&(df['survived']==1),1,0)\ndf['man_survivor']=np.where((df['age']>=17)&(df['sex']=='male')&(df['survived']==1),1,0)",
      "execution_count": 6,
      "outputs": []
    },
    {
      "metadata": {
        "trusted": true
      },
      "cell_type": "code",
      "source": "prob_Survivor=total_survivors/1308\nprob_Survivor_First_Class=total_fclass_survivors/total_survivors\nprob_Survivor_Second_Class=total_sclass_survivors/total_survivors\nprob_Survivor_Third_Class=total_tclass_survivors/total_survivors\n#age of adult is 17\nprob_Survivor_Boy=total_boy_survivors/total_survivors\nprob_Survivor_Woman=total_woman_survivors/total_survivors\nprob_Survivor_Man=total_man_survivors/total_survivors\ndef computeBayes(pass_class, sex_age, survival):\n    return pass_class * sex_age * survival\nprob_second_boy=round(computeBayes(prob_Survivor_Second_Class,prob_Survivor_Boy,prob_Survivor),4)\nprob_third_woman=round(computeBayes(prob_Survivor_Third_Class,prob_Survivor_Woman,prob_Survivor),4)\nprob_first_man=round(computeBayes(prob_Survivor_First_Class,prob_Survivor_Man,prob_Survivor),4)\nprint('The probability that a survivor is a second class boy is ' + str(prob_second_boy))\nprint('The probability that a survivor is a third class woman is ' + str(prob_third_woman))\nprint('The probability that a survivor is a first class man is ' + str(prob_first_man))",
      "execution_count": 10,
      "outputs": [
        {
          "output_type": "stream",
          "text": "The probability that a survivor is a second class boy is 0.0056\nThe probability that a survivor is a third class woman is 0.0686\nThe probability that a survivor is a first class man is 0.0321\n",
          "name": "stdout"
        }
      ]
    },
    {
      "metadata": {
        "trusted": true
      },
      "cell_type": "code",
      "source": "#second attempt\nprob_Survivor=total_survivors/1308\nprob_First_Class_Survive=total_fclass_survivors/total_first_class\nprob_Second_Class_Survive=total_sclass_survivors/total_second_class\nprob_Third_Clas_Survive=total_tclass_survivors/total_third_class\n'''\nprob_Boy_First_Class=total_fclass_survivors/total_first_class\nprob_Boy_Second_Class=total_sclass_survivors/total_second_class\nprob_Boy_Third_Clas=total_tclass_survivors/total_third_class\n'''\nprob_Boy_Survive=total_boy_survivors/total_boys\nprob_Woman_Survive=total_woman_survivors/total_women\nprob_Man_Survive=total_man_survivors/total_men\n\nprob_Boy = total_boys/1308\nprob_Woman = total_women/1308\nprob_Man = total_men/1308\n\nprint(prob_First_Class_Survive)\nprint(prob_Second_Class_Survive)\nprint(prob_Third_Clas_Survive)\nprint(prob_Boy_Survive)\nprint(prob_Woman_Survive)\nprint(prob_Man_Survive)",
      "execution_count": 9,
      "outputs": [
        {
          "output_type": "stream",
          "text": "0.6191950464396285\n0.4296028880866426\n0.2552891396332863\n0.3780487804878049\n0.7654320987654321\n0.17857142857142858\n",
          "name": "stdout"
        }
      ]
    },
    {
      "metadata": {
        "trusted": true
      },
      "cell_type": "code",
      "source": "\"\"\"\ndef computeBayes_v2(pass_class, sex_age, survival):\n    return pass_class * sex_age * survival\nprob_second_boy_v2=round(computeBayes_v2(prob_Second_Class_Survive,prob_Survivor_Boy,prob_Survivor),4)\nprob_third_woman_v2=round(computeBayes_v2(prob_Survivor_Third_Class,prob_Survivor_Woman,prob_Survivor),4)\nprob_first_man_v2=round(computeBayes_v2(prob_Survivor_First_Class,prob_Survivor_Man,prob_Survivor),4)\nprint('The probability that a survivor is a second class boy is ' + str(prob_second_boy))\nprint('The probability that a survivor is a third class woman is ' + str(prob_third_woman))\nprint('The probability that a survivor is a first class man is ' + str(prob_first_man))\n\"\"\"\n",
      "execution_count": null,
      "outputs": []
    }
  ],
  "metadata": {
    "kernelspec": {
      "name": "python36",
      "display_name": "Python 3.6",
      "language": "python"
    },
    "language_info": {
      "mimetype": "text/x-python",
      "nbconvert_exporter": "python",
      "name": "python",
      "pygments_lexer": "ipython3",
      "version": "3.6.6",
      "file_extension": ".py",
      "codemirror_mode": {
        "version": 3,
        "name": "ipython"
      }
    }
  },
  "nbformat": 4,
  "nbformat_minor": 2
}